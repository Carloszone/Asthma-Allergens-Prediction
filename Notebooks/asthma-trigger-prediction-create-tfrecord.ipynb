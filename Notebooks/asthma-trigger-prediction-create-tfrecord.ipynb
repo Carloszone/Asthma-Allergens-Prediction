{
 "cells": [
  {
   "cell_type": "code",
   "execution_count": 1,
   "id": "weekly-proceeding",
   "metadata": {
    "_cell_guid": "b1076dfc-b9ad-4769-8c92-a6c4dae69d19",
    "_uuid": "8f2839f25d086af736a60e9eeb907d3b93b6e0e5",
    "execution": {
     "iopub.execute_input": "2021-05-28T20:12:05.157134Z",
     "iopub.status.busy": "2021-05-28T20:12:05.156399Z",
     "iopub.status.idle": "2021-05-28T20:12:12.416455Z",
     "shell.execute_reply": "2021-05-28T20:12:12.415729Z",
     "shell.execute_reply.started": "2021-05-28T00:47:27.811453Z"
    },
    "papermill": {
     "duration": 7.280034,
     "end_time": "2021-05-28T20:12:12.416647",
     "exception": false,
     "start_time": "2021-05-28T20:12:05.136613",
     "status": "completed"
    },
    "tags": []
   },
   "outputs": [],
   "source": [
    "import pandas as pd\n",
    "import numpy as np\n",
    "from sklearn.model_selection import train_test_split\n",
    "from scipy import stats\n",
    "import random\n",
    "import os\n",
    "import tensorflow as tf\n",
    "import math\n",
    "import cv2"
   ]
  },
  {
   "cell_type": "code",
   "execution_count": 2,
   "id": "realistic-journal",
   "metadata": {
    "execution": {
     "iopub.execute_input": "2021-05-28T20:12:12.441549Z",
     "iopub.status.busy": "2021-05-28T20:12:12.440281Z",
     "iopub.status.idle": "2021-05-28T20:12:12.442245Z",
     "shell.execute_reply": "2021-05-28T20:12:12.442788Z",
     "shell.execute_reply.started": "2021-05-28T00:47:27.821713Z"
    },
    "papermill": {
     "duration": 0.017899,
     "end_time": "2021-05-28T20:12:12.442958",
     "exception": false,
     "start_time": "2021-05-28T20:12:12.425059",
     "status": "completed"
    },
    "tags": []
   },
   "outputs": [],
   "source": [
    "seed = 9527\n",
    "SIZE = 500\n",
    "\n",
    "img_size = 256\n",
    "img_path = '../input/food-ingredients-and-recipe-dataset-with-images/Food Images/Food Images/'\n",
    "\n",
    "common_allergens = {\n",
    "    'cows milk': {'Cheese', 'Butter', 'Margarine', 'Yogurt', 'Cream', 'Ice cream'},\n",
    "    'eggs': {'egg'},\n",
    "    'tree nuts': {'Brazil nut', 'Almond', 'Cashew', 'Macadamia nut', 'Pistachio','Pine nut','Walnut'},\n",
    "    'peanuts': {'peanut'},\n",
    "    'shellfish': {'Shrimp','Prawn','Crayfish', 'Lobster', 'Squid', 'Scallops'},\n",
    "    'wheat': {'flour', 'wheat', 'pasta', 'noodle', 'bread', 'crust'},\n",
    "    'soy': {'soy', 'tofu', 'soya'},\n",
    "    'fish': {'fish', 'seafood'}\n",
    "}"
   ]
  },
  {
   "cell_type": "code",
   "execution_count": 3,
   "id": "acceptable-commercial",
   "metadata": {
    "execution": {
     "iopub.execute_input": "2021-05-28T20:12:12.462923Z",
     "iopub.status.busy": "2021-05-28T20:12:12.462246Z",
     "iopub.status.idle": "2021-05-28T20:12:12.470623Z",
     "shell.execute_reply": "2021-05-28T20:12:12.471097Z",
     "shell.execute_reply.started": "2021-05-28T01:38:15.400442Z"
    },
    "papermill": {
     "duration": 0.020181,
     "end_time": "2021-05-28T20:12:12.471274",
     "exception": false,
     "start_time": "2021-05-28T20:12:12.451093",
     "status": "completed"
    },
    "tags": []
   },
   "outputs": [],
   "source": [
    "def seed_everything(seed):\n",
    "    random.seed(seed)\n",
    "    np.random.seed(seed)\n",
    "    os.environ['PYTHONHASHSEED'] = str(seed)\n",
    "    tf.random.set_seed(seed)\n",
    "    \n",
    "def allergens_mapping(row, types):\n",
    "    for item in common_allergens[types]:\n",
    "        if item.lower() in row.lower():\n",
    "                return 1\n",
    "    return 0\n",
    "\n",
    "def image_mapping_check(dataset):\n",
    "    counter = 0\n",
    "    record = []\n",
    "    while counter < dataset.shape[0]-1:\n",
    "        row = dataset.loc[counter]\n",
    "        img_name = row['Image_Name']\n",
    "        img = cv2.imread(img_path+img_name+'.jpg')\n",
    "        try:\n",
    "            img = cv2.cvtColor(img, cv2.COLOR_RGB2BGR) \n",
    "        except:\n",
    "            record.append(counter)\n",
    "        counter+= 1\n",
    "    new = dataset.drop(record, axis = 0)\n",
    "    new = new.reset_index(drop = True)\n",
    "    return new"
   ]
  },
  {
   "cell_type": "code",
   "execution_count": 4,
   "id": "involved-perception",
   "metadata": {
    "execution": {
     "iopub.execute_input": "2021-05-28T20:12:12.490793Z",
     "iopub.status.busy": "2021-05-28T20:12:12.490121Z",
     "iopub.status.idle": "2021-05-28T20:12:12.500487Z",
     "shell.execute_reply": "2021-05-28T20:12:12.500955Z",
     "shell.execute_reply.started": "2021-05-28T00:47:28.046966Z"
    },
    "papermill": {
     "duration": 0.021644,
     "end_time": "2021-05-28T20:12:12.501132",
     "exception": false,
     "start_time": "2021-05-28T20:12:12.479488",
     "status": "completed"
    },
    "tags": []
   },
   "outputs": [],
   "source": [
    "def get_dataset():\n",
    "    path = \"../input/food-ingredients-and-recipe-dataset-with-images/Food Ingredients and Recipe Dataset with Image Name Mapping.csv\"\n",
    "    df = pd.read_csv(path)\n",
    "    df = image_mapping_check(df)\n",
    "    df['cows milk'] = df['Cleaned_Ingredients'].apply(lambda x: allergens_mapping(x, types = 'cows milk'))\n",
    "    df['eggs'] = df['Cleaned_Ingredients'].apply(lambda x: allergens_mapping(x, types = 'eggs'))\n",
    "    df['tree nuts'] = df['Cleaned_Ingredients'].apply(lambda x: allergens_mapping(x, types = 'tree nuts'))\n",
    "    df['peanuts'] = df['Cleaned_Ingredients'].apply(lambda x: allergens_mapping(x, types = 'peanuts'))\n",
    "    df['shellfish'] = df['Cleaned_Ingredients'].apply(lambda x: allergens_mapping(x, types = 'shellfish'))\n",
    "    df['wheat'] = df['Cleaned_Ingredients'].apply(lambda x: allergens_mapping(x, types = 'wheat'))\n",
    "    df['soy'] = df['Cleaned_Ingredients'].apply(lambda x: allergens_mapping(x, types = 'soy'))\n",
    "    df['fish'] = df['Cleaned_Ingredients'].apply(lambda x: allergens_mapping(x, types = 'fish'))\n",
    "    x_train, x_val, y_train, y_val = train_test_split(df[['Image_Name']], df.iloc[:,6:14], shuffle = True, random_state = seed, test_size = 0.25)\n",
    "    train_df = pd.concat([x_train, y_train], axis = 1).reset_index(drop = True)\n",
    "    val_df = pd.concat([x_val, y_val], axis = 1).reset_index(drop = True)\n",
    "    return df, train_df, val_df"
   ]
  },
  {
   "cell_type": "code",
   "execution_count": 5,
   "id": "thousand-strengthening",
   "metadata": {
    "execution": {
     "iopub.execute_input": "2021-05-28T20:12:12.520489Z",
     "iopub.status.busy": "2021-05-28T20:12:12.519842Z",
     "iopub.status.idle": "2021-05-28T20:12:12.529178Z",
     "shell.execute_reply": "2021-05-28T20:12:12.529735Z",
     "shell.execute_reply.started": "2021-05-28T00:47:28.079068Z"
    },
    "papermill": {
     "duration": 0.020652,
     "end_time": "2021-05-28T20:12:12.529910",
     "exception": false,
     "start_time": "2021-05-28T20:12:12.509258",
     "status": "completed"
    },
    "tags": []
   },
   "outputs": [],
   "source": [
    "def _bytes_feature(value):\n",
    "    if isinstance(value, type(tf.constant(0))):\n",
    "        value = value.numpy() # BytesList won't unpack a string from an EagerTensor.\n",
    "    return tf.train.Feature(bytes_list=tf.train.BytesList(value=[value]))\n",
    "\n",
    "def _int64_feature(value):\n",
    "  \"\"\"Returns an int64_list from a bool / enum / int / uint.\"\"\"\n",
    "  return tf.train.Feature(int64_list=tf.train.Int64List(value=[value]))\n",
    "\n",
    "def _float_feature(value):\n",
    "  \"\"\"Returns a float_list from a float / double.\"\"\"\n",
    "  return tf.train.Feature(float_list=tf.train.FloatList(value=[value]))\n",
    "\n",
    "def serialize_example(feature0, feature1, feature2, feature3, feature4, feature5,feature6, feature7, feature8, feature9):\n",
    "    feature = {\n",
    "        'image_name': _bytes_feature(feature0),\n",
    "        'image': _bytes_feature(feature1),\n",
    "        'cows_milk': _int64_feature(feature2),\n",
    "        'eggs': _int64_feature(feature3),\n",
    "        'tree nuts': _int64_feature(feature4),\n",
    "        'peanuts': _int64_feature(feature5),\n",
    "        'shellfish': _int64_feature(feature6),\n",
    "        'wheat': _int64_feature(feature7),\n",
    "        'soy': _int64_feature(feature8),\n",
    "        'fish': _int64_feature(feature9)\n",
    "    }\n",
    "    example_proto = tf.train.Example(features=tf.train.Features(feature=feature))\n",
    "    return example_proto.SerializeToString()"
   ]
  },
  {
   "cell_type": "code",
   "execution_count": 6,
   "id": "finite-liberty",
   "metadata": {
    "execution": {
     "iopub.execute_input": "2021-05-28T20:12:12.549454Z",
     "iopub.status.busy": "2021-05-28T20:12:12.548773Z",
     "iopub.status.idle": "2021-05-28T20:12:12.563378Z",
     "shell.execute_reply": "2021-05-28T20:12:12.563930Z",
     "shell.execute_reply.started": "2021-05-28T01:40:47.361466Z"
    },
    "papermill": {
     "duration": 0.026158,
     "end_time": "2021-05-28T20:12:12.564112",
     "exception": false,
     "start_time": "2021-05-28T20:12:12.537954",
     "status": "completed"
    },
    "tags": []
   },
   "outputs": [],
   "source": [
    "def create_recored(dataset, title):\n",
    "    CT = dataset.shape[0]//SIZE + int(dataset.shape[0]%SIZE!=0)\n",
    "    for j in range(CT):\n",
    "        print(); print('Writing TFRecord %i of %i...'%(j,CT))\n",
    "        CT2 = min(SIZE,dataset.shape[0]-j*SIZE)\n",
    "        if title == \"train\":\n",
    "            with tf.io.TFRecordWriter('train%.4i-%.2i-%i.tfrec'%(seed,j,CT2)) as writer:\n",
    "                for k in range(CT2):\n",
    "                    counter = j*SIZE+k\n",
    "                    row = dataset.loc[counter]\n",
    "                    img_name = row['Image_Name']\n",
    "                    img = cv2.imread(img_path+img_name+'.jpg')\n",
    "                    img = cv2.cvtColor(img, cv2.COLOR_RGB2BGR) # Fix incorrect colors\n",
    "                    img = cv2.resize(img,(img_size,img_size),interpolation = cv2.INTER_AREA)\n",
    "                    img = cv2.imencode('.jpg', img, (cv2.IMWRITE_JPEG_QUALITY, 94))[1].tostring()\n",
    "                    example = serialize_example(\n",
    "                        str.encode(img_name),\n",
    "                        img,\n",
    "                        row['cows milk'],\n",
    "                        row['eggs'],\n",
    "                        row['tree nuts'],\n",
    "                        row['peanuts'],\n",
    "                        row['shellfish'],\n",
    "                        row['wheat'],\n",
    "                        row['soy'],\n",
    "                        row['fish']\n",
    "                    )\n",
    "                    writer.write(example)\n",
    "                    if k%100==0: print(k,', ',end='')\n",
    "        else:\n",
    "             with tf.io.TFRecordWriter('val%.4i-%.2i-%i.tfrec'%(seed,j,CT2)) as writer:\n",
    "                for k in range(CT2):\n",
    "                    counter = j*SIZE+k\n",
    "                    img_name = dataset.Image_Name[counter]\n",
    "                    img = cv2.imread(img_path+img_name+'.jpg')\n",
    "                    img = cv2.cvtColor(img, cv2.COLOR_RGB2BGR) # Fix incorrect colors\n",
    "                    img = cv2.resize(img,(img_size,img_size),interpolation = cv2.INTER_AREA)\n",
    "                    img = cv2.imencode('.jpg', img, (cv2.IMWRITE_JPEG_QUALITY, 94))[1].tostring()\n",
    "                    row = dataset.loc[counter]\n",
    "                    example = serialize_example(\n",
    "                        str.encode(img_name),\n",
    "                        img,\n",
    "                        row['cows milk'],\n",
    "                        row['eggs'],\n",
    "                        row['tree nuts'],\n",
    "                        row['peanuts'],\n",
    "                        row['shellfish'],\n",
    "                        row['wheat'],\n",
    "                        row['soy'],\n",
    "                        row['fish']\n",
    "                    )\n",
    "                    writer.write(example)\n",
    "                    if k%100==0: print(k,', ',end='')"
   ]
  },
  {
   "cell_type": "code",
   "execution_count": 7,
   "id": "sorted-experiment",
   "metadata": {
    "execution": {
     "iopub.execute_input": "2021-05-28T20:12:12.583936Z",
     "iopub.status.busy": "2021-05-28T20:12:12.583232Z",
     "iopub.status.idle": "2021-05-28T20:12:12.588840Z",
     "shell.execute_reply": "2021-05-28T20:12:12.588132Z",
     "shell.execute_reply.started": "2021-05-28T01:46:09.760569Z"
    },
    "papermill": {
     "duration": 0.016815,
     "end_time": "2021-05-28T20:12:12.588981",
     "exception": false,
     "start_time": "2021-05-28T20:12:12.572166",
     "status": "completed"
    },
    "tags": []
   },
   "outputs": [],
   "source": [
    "def get_record(seed):\n",
    "    seed_everything(seed)\n",
    "    df, train_df, val_df = get_dataset()\n",
    "    # save df\n",
    "    df.to_csv('food_ingredients_dataset.csv', index = False)\n",
    "    create_recored(train_df,title = \"train\")\n",
    "    create_recored(val_df, title = \"val\")"
   ]
  },
  {
   "cell_type": "code",
   "execution_count": 8,
   "id": "optical-injury",
   "metadata": {
    "execution": {
     "iopub.execute_input": "2021-05-28T20:12:12.610506Z",
     "iopub.status.busy": "2021-05-28T20:12:12.609854Z",
     "iopub.status.idle": "2021-05-28T20:14:33.344994Z",
     "shell.execute_reply": "2021-05-28T20:14:33.345487Z",
     "shell.execute_reply.started": "2021-05-28T01:46:11.325047Z"
    },
    "papermill": {
     "duration": 140.748584,
     "end_time": "2021-05-28T20:14:33.345732",
     "exception": false,
     "start_time": "2021-05-28T20:12:12.597148",
     "status": "completed"
    },
    "tags": []
   },
   "outputs": [
    {
     "name": "stdout",
     "output_type": "stream",
     "text": [
      "\n",
      "Writing TFRecord 0 of 21...\n",
      "0 , "
     ]
    },
    {
     "name": "stderr",
     "output_type": "stream",
     "text": [
      "/opt/conda/lib/python3.7/site-packages/ipykernel_launcher.py:15: DeprecationWarning: tostring() is deprecated. Use tobytes() instead.\n",
      "  from ipykernel import kernelapp as app\n"
     ]
    },
    {
     "name": "stdout",
     "output_type": "stream",
     "text": [
      "100 , 200 , 300 , 400 , \n",
      "Writing TFRecord 1 of 21...\n",
      "0 , 100 , 200 , 300 , 400 , \n",
      "Writing TFRecord 2 of 21...\n",
      "0 , 100 , 200 , 300 , 400 , \n",
      "Writing TFRecord 3 of 21...\n",
      "0 , 100 , 200 , 300 , 400 , \n",
      "Writing TFRecord 4 of 21...\n",
      "0 , 100 , 200 , 300 , 400 , \n",
      "Writing TFRecord 5 of 21...\n",
      "0 , 100 , 200 , 300 , 400 , \n",
      "Writing TFRecord 6 of 21...\n",
      "0 , 100 , 200 , 300 , 400 , \n",
      "Writing TFRecord 7 of 21...\n",
      "0 , 100 , 200 , 300 , 400 , \n",
      "Writing TFRecord 8 of 21...\n",
      "0 , 100 , 200 , 300 , 400 , \n",
      "Writing TFRecord 9 of 21...\n",
      "0 , 100 , 200 , 300 , 400 , \n",
      "Writing TFRecord 10 of 21...\n",
      "0 , 100 , 200 , 300 , 400 , \n",
      "Writing TFRecord 11 of 21...\n",
      "0 , 100 , 200 , 300 , 400 , \n",
      "Writing TFRecord 12 of 21...\n",
      "0 , 100 , 200 , 300 , 400 , \n",
      "Writing TFRecord 13 of 21...\n",
      "0 , 100 , 200 , 300 , 400 , \n",
      "Writing TFRecord 14 of 21...\n",
      "0 , 100 , 200 , 300 , 400 , \n",
      "Writing TFRecord 15 of 21...\n",
      "0 , 100 , 200 , 300 , 400 , \n",
      "Writing TFRecord 16 of 21...\n",
      "0 , 100 , 200 , 300 , 400 , \n",
      "Writing TFRecord 17 of 21...\n",
      "0 , 100 , 200 , 300 , 400 , \n",
      "Writing TFRecord 18 of 21...\n",
      "0 , 100 , 200 , 300 , 400 , \n",
      "Writing TFRecord 19 of 21...\n",
      "0 , 100 , 200 , 300 , 400 , \n",
      "Writing TFRecord 20 of 21...\n",
      "0 , \n",
      "Writing TFRecord 0 of 7...\n",
      "0 , "
     ]
    },
    {
     "name": "stderr",
     "output_type": "stream",
     "text": [
      "/opt/conda/lib/python3.7/site-packages/ipykernel_launcher.py:38: DeprecationWarning: tostring() is deprecated. Use tobytes() instead.\n"
     ]
    },
    {
     "name": "stdout",
     "output_type": "stream",
     "text": [
      "100 , 200 , 300 , 400 , \n",
      "Writing TFRecord 1 of 7...\n",
      "0 , 100 , 200 , 300 , 400 , \n",
      "Writing TFRecord 2 of 7...\n",
      "0 , 100 , 200 , 300 , 400 , \n",
      "Writing TFRecord 3 of 7...\n",
      "0 , 100 , 200 , 300 , 400 , \n",
      "Writing TFRecord 4 of 7...\n",
      "0 , 100 , 200 , 300 , 400 , \n",
      "Writing TFRecord 5 of 7...\n",
      "0 , 100 , 200 , 300 , 400 , \n",
      "Writing TFRecord 6 of 7...\n",
      "0 , 100 , 200 , 300 , "
     ]
    }
   ],
   "source": [
    "# create TFRecord\n",
    "# the code is used to build model to predict asthma triggers for my course ALY6980. Liuzhao Tang.\n",
    "get_record(seed)"
   ]
  }
 ],
 "metadata": {
  "kernelspec": {
   "display_name": "Python 3",
   "language": "python",
   "name": "python3"
  },
  "language_info": {
   "codemirror_mode": {
    "name": "ipython",
    "version": 3
   },
   "file_extension": ".py",
   "mimetype": "text/x-python",
   "name": "python",
   "nbconvert_exporter": "python",
   "pygments_lexer": "ipython3",
   "version": "3.7.10"
  },
  "papermill": {
   "default_parameters": {},
   "duration": 157.921301,
   "end_time": "2021-05-28T20:14:34.607938",
   "environment_variables": {},
   "exception": null,
   "input_path": "__notebook__.ipynb",
   "output_path": "__notebook__.ipynb",
   "parameters": {},
   "start_time": "2021-05-28T20:11:56.686637",
   "version": "2.3.3"
  }
 },
 "nbformat": 4,
 "nbformat_minor": 5
}
